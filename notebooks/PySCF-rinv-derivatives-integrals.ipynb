{
 "cells": [
  {
   "cell_type": "markdown",
   "id": "54aa7ee3",
   "metadata": {},
   "source": [
    "The formulas for the integrals of type:\n",
    "\n",
    "$$ F_a = \\int_\\Omega \\phi_i \\phi_j \\nabla^a r^{-1} dr $$\n",
    "\n",
    "Have been derived here, https://erikkjellgren.com/2019/09/15/d_rinv_integrals/"
   ]
  },
  {
   "cell_type": "code",
   "execution_count": 1,
   "id": "0bfb5d51",
   "metadata": {},
   "outputs": [
    {
     "data": {
      "text/plain": [
       "<pyscf.gto.mole.Mole at 0x7fca80612eb0>"
      ]
     },
     "execution_count": 1,
     "metadata": {},
     "output_type": "execute_result"
    }
   ],
   "source": [
    "# First setting up the system\n",
    "from pyscf import gto\n",
    "\n",
    "mol = gto.Mole()\n",
    "mol.atom = '''He 1 2 3'''\n",
    "mol.basis = \"sto-3g\"\n",
    "mol.build()"
   ]
  },
  {
   "cell_type": "markdown",
   "id": "2812c12e",
   "metadata": {},
   "source": [
    "Let us first consider the first derivate.\n",
    "It has the form:\n",
    "\n",
    "$$ F_1 = \\left<\\phi_i\\left|\\nabla r^{-1}\\right|\\phi_j\\right> = - \\int_\\Omega \\nabla \\phi_i \\phi_j  r^{-1} \\mathrm{d}r - \\int_\\Omega \\phi_i \\nabla \\phi_j r^{-1} \\mathrm{d}r $$\n",
    "\n",
    "Following the equation the first derivate can be calculated as:"
   ]
  },
  {
   "cell_type": "code",
   "execution_count": 2,
   "id": "b9496a42",
   "metadata": {},
   "outputs": [
    {
     "data": {
      "text/plain": [
       "array([[[0.00534577]],\n",
       "\n",
       "       [[0.01069154]],\n",
       "\n",
       "       [[0.01603731]]])"
      ]
     },
     "execution_count": 2,
     "metadata": {},
     "output_type": "execute_result"
    }
   ],
   "source": [
    "mol.set_rinv_orig((0,0,0))\n",
    "mol.intor(\"int1e_iprinv\") + mol.intor(\"int1e_iprinv\").transpose(0,2,1)"
   ]
  },
  {
   "cell_type": "markdown",
   "id": "2609c256",
   "metadata": {},
   "source": [
    "Let us verify this result by looking at the finite derivate in the x direction:"
   ]
  },
  {
   "cell_type": "code",
   "execution_count": 3,
   "id": "b0e84648",
   "metadata": {},
   "outputs": [
    {
     "name": "stdout",
     "output_type": "stream",
     "text": [
      "[[0.00534577]]\n"
     ]
    }
   ],
   "source": [
    "step = 10**-5\n",
    "mol.set_rinv_orig((step,0,0))\n",
    "rinvp = mol.intor(\"int1e_rinv\")\n",
    "mol.set_rinv_orig((-step,0,0))\n",
    "rinvm = mol.intor(\"int1e_rinv\")\n",
    "field_finite = (rinvp - rinvm)/(2*step)\n",
    "print(field_finite)"
   ]
  },
  {
   "cell_type": "markdown",
   "id": "c8c2583a",
   "metadata": {},
   "source": [
    "Let us now consider the second derivate.\n",
    "It has the form:\n",
    "\n",
    "$$ F_2 = \\left<\\phi_i\\left|\\nabla^2 r^{-1}\\right|\\phi_j\\right> = \\int_\\Omega \\nabla^2 \\phi_i \\phi_j r^{-1} \\mathrm{d}r\n",
    "         +  \\int_\\Omega \\phi_i \\nabla^2 \\phi_j r^{-1} \\mathrm{d}r\n",
    "         +  2\\int_\\Omega \\nabla \\phi_i \\nabla \\phi_j r^{-1} \\mathrm{d}r $$\n",
    "\n",
    "Following the equation the second derivate can be calculated as:"
   ]
  },
  {
   "cell_type": "code",
   "execution_count": 4,
   "id": "5c61c182",
   "metadata": {},
   "outputs": [
    {
     "data": {
      "text/plain": [
       "array([[[-0.00222268]],\n",
       "\n",
       "       [[ 0.00121237]],\n",
       "\n",
       "       [[ 0.00181855]],\n",
       "\n",
       "       [[ 0.00121237]],\n",
       "\n",
       "       [[-0.00040412]],\n",
       "\n",
       "       [[ 0.0036371 ]],\n",
       "\n",
       "       [[ 0.00181855]],\n",
       "\n",
       "       [[ 0.0036371 ]],\n",
       "\n",
       "       [[ 0.0026268 ]]])"
      ]
     },
     "execution_count": 4,
     "metadata": {},
     "output_type": "execute_result"
    }
   ],
   "source": [
    "mol.set_rinv_orig((0,0,0))\n",
    "mol.intor(\"int1e_ipiprinv\") + mol.intor(\"int1e_ipiprinv\").transpose(0,2,1) + 2*mol.intor(\"int1e_iprinvip\")"
   ]
  },
  {
   "cell_type": "markdown",
   "id": "87927ed7",
   "metadata": {},
   "source": [
    "Let us now verify this result by looking the finite derivate in the x direction.\n",
    "\n",
    "Note here that, \"mol.intor(\"int1e_iprinv\") + mol.intor(\"int1e_iprinv\").transpose(0,2,1)\", is how we calulated the first derivative before."
   ]
  },
  {
   "cell_type": "code",
   "execution_count": 5,
   "id": "e104e06c",
   "metadata": {},
   "outputs": [
    {
     "name": "stdout",
     "output_type": "stream",
     "text": [
      "[[[-0.00222268]]\n",
      "\n",
      " [[ 0.00121237]]\n",
      "\n",
      " [[ 0.00181855]]]\n"
     ]
    }
   ],
   "source": [
    "step = 10**-5\n",
    "mol.set_rinv_orig((step,0,0))\n",
    "rinvp = mol.intor(\"int1e_iprinv\") + mol.intor(\"int1e_iprinv\").transpose(0,2,1)\n",
    "mol.set_rinv_orig((-step,0,0))\n",
    "rinvm = mol.intor(\"int1e_iprinv\") + mol.intor(\"int1e_iprinv\").transpose(0,2,1)\n",
    "field_finite = (rinvp - rinvm)/(2*step)\n",
    "print(field_finite)"
   ]
  }
 ],
 "metadata": {
  "kernelspec": {
   "display_name": "Python 3 (ipykernel)",
   "language": "python",
   "name": "python3"
  },
  "language_info": {
   "codemirror_mode": {
    "name": "ipython",
    "version": 3
   },
   "file_extension": ".py",
   "mimetype": "text/x-python",
   "name": "python",
   "nbconvert_exporter": "python",
   "pygments_lexer": "ipython3",
   "version": "3.9.12"
  }
 },
 "nbformat": 4,
 "nbformat_minor": 5
}
