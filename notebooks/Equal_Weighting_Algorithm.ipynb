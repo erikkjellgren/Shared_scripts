{
 "cells": [
  {
   "cell_type": "code",
   "execution_count": 1,
   "metadata": {},
   "outputs": [],
   "source": [
    "import numpy as np\n",
    "import time as time\n",
    "import matplotlib.pyplot as plt"
   ]
  },
  {
   "cell_type": "code",
   "execution_count": 2,
   "metadata": {},
   "outputs": [],
   "source": [
    "def func(prices, targets, capital):\n",
    "    stocks = np.ones(len(prices), dtype=int) * ((capital/len(prices))//prices).astype('int')\n",
    "    capital = capital - np.sum(prices*stocks)\n",
    "    \n",
    "    fitness = np.zeros(len(prices))\n",
    "    while True:\n",
    "        for i in range(len(prices)):\n",
    "            stocks[i] += 1\n",
    "            fitness[i] = np.sum((prices*stocks / np.sum(prices*stocks) - targets)**2)\n",
    "            stocks[i] -= 1\n",
    "        idx = np.argmin(fitness)\n",
    "        if capital - prices[idx] < 0:\n",
    "            break\n",
    "        else:\n",
    "            stocks[idx] += 1\n",
    "            capital -= prices[idx]\n",
    "    return stocks"
   ]
  },
  {
   "cell_type": "code",
   "execution_count": 40,
   "metadata": {},
   "outputs": [],
   "source": [
    "Ns = np.arange(10, 1200, 80)\n",
    "times = []\n",
    "for N in Ns:\n",
    "    prices = np.ones(N)*10 + np.random.random(N)*100\n",
    "    targets = np.ones(N)/N\n",
    "    capital = N*1000\n",
    "    start = time.time()\n",
    "    func(prices, targets, capital)\n",
    "    times.append(time.time() - start)"
   ]
  },
  {
   "cell_type": "code",
   "execution_count": 41,
   "metadata": {},
   "outputs": [
    {
     "data": {
      "image/png": "[encoded data removed]",
      "text/plain": [
       "<Figure size 432x288 with 1 Axes>"
      ]
     },
     "metadata": {
      "needs_background": "light"
     },
     "output_type": "display_data"
    }
   ],
   "source": [
    "a,b,c = np.polyfit(Ns, times, 2)\n",
    "x = np.linspace(0, Ns[-1], 1000)\n",
    "plt.plot(x, a*x**2 + b*x + c)\n",
    "plt.plot(Ns, times, 'o')\n",
    "plt.show()"
   ]
  }
 ],
 "metadata": {
  "kernelspec": {
   "display_name": "Python 3",
   "language": "python",
   "name": "python3"
  },
  "language_info": {
   "codemirror_mode": {
    "name": "ipython",
    "version": 3
   },
   "file_extension": ".py",
   "mimetype": "text/x-python",
   "name": "python",
   "nbconvert_exporter": "python",
   "pygments_lexer": "ipython3",
   "version": "3.7.9"
  }
 },
 "nbformat": 4,
 "nbformat_minor": 4
}
