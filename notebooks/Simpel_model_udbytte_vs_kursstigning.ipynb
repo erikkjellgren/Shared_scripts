{
 "cells": [
  {
   "cell_type": "code",
   "execution_count": 2,
   "id": "million-engagement",
   "metadata": {},
   "outputs": [],
   "source": [
    "import dkfinance_modeller.aktieskat.skat as skat\n",
    "from dkfinance_modeller.aktieskat.skat import Skat"
   ]
  },
  {
   "cell_type": "markdown",
   "id": "regulated-rally",
   "metadata": {},
   "source": [
    "Her kommer der en meget simpel model, hvor det er antaget at udbytte bliver beskattet med 27% og realisering bliver beskattet med 42%.\n",
    "Dette er selvfølgelig ikke hvordan beskatning virker rigtigt."
   ]
  },
  {
   "cell_type": "code",
   "execution_count": 3,
   "id": "facial-blair",
   "metadata": {},
   "outputs": [],
   "source": [
    "def simpel_model(\n",
    "                 start_kapital: float, \n",
    "                 åop: float, \n",
    "                 årligt_afkast: float, \n",
    "                 antal_år: int, \n",
    "                 udbytte_procent: float,\n",
    "                 udbytte_skat: float,\n",
    "                 realisations_skat: float\n",
    "                ):\n",
    "    \"\"\"\n",
    "    Simpelmodel for beregning af afkast efter et antal år.\n",
    "    \n",
    "    Args:\n",
    "      start_kapital: Start kapital i depotet.\n",
    "      åop: ÅOP af depotet.\n",
    "      skatteklasse: Klasse der beskriver hvordan skatten behandles.\n",
    "      årligt_afkast: Gennemsnitligt årligt afkast.\n",
    "      antal_år: Antal år.\n",
    "      udbytte_procent: Hvor meget af afkastet kommer som udbytte.\n",
    "\n",
    "    Returns:\n",
    "      Total depotværdi efter antal år efter skat.\n",
    "    \"\"\"\n",
    "    realiseret = start_kapital\n",
    "    depot_værdi = start_kapital\n",
    "    \n",
    "    for _ in range(antal_år):\n",
    "        # Beregner udbytte.\n",
    "        udbytte = udbytte_procent * depot_værdi * (årligt_afkast - åop)\n",
    "        # Beregner beskatning af udbytte.\n",
    "        beskatning = udbytte_skat*udbytte\n",
    "        # Holder regnskab på hvor meget af depotet der allerede er blevet beskattet.\n",
    "        realiseret += udbytte - beskatning\n",
    "        # Ny depot værdi efter år N.\n",
    "        depot_værdi = depot_værdi + depot_værdi*(årligt_afkast - åop)*(1-udbytte_procent) + udbytte - beskatning\n",
    "    # Beregninger beskatning ved realisering af hele depotet,\n",
    "    # her bliver det brugt at der er holdt styr på hvor meget der er realiseret.\n",
    "    beskatning = realisations_skat*(depot_værdi - realiseret)\n",
    "    return depot_værdi - beskatning\n"
   ]
  },
  {
   "cell_type": "markdown",
   "id": "golden-twist",
   "metadata": {},
   "source": [
    "Din model A. "
   ]
  },
  {
   "cell_type": "code",
   "execution_count": 4,
   "id": "organic-pregnancy",
   "metadata": {},
   "outputs": [
    {
     "data": {
      "text/plain": [
       "3.9745052517313533"
      ]
     },
     "execution_count": 4,
     "metadata": {},
     "output_type": "execute_result"
    }
   ],
   "source": [
    "simpel_model(1, 0.3/100, 0.1, 20, 0.8, 0.27, 0.42)"
   ]
  },
  {
   "cell_type": "markdown",
   "id": "affected-dryer",
   "metadata": {},
   "source": [
    "Din model B."
   ]
  },
  {
   "cell_type": "code",
   "execution_count": 5,
   "id": "defined-force",
   "metadata": {
    "scrolled": true
   },
   "outputs": [
    {
     "data": {
      "text/plain": [
       "3.8983342410021287"
      ]
     },
     "execution_count": 5,
     "metadata": {},
     "output_type": "execute_result"
    }
   ],
   "source": [
    "simpel_model(1, 0.6/100, 0.1, 20, 0.2, 0.27, 0.42)"
   ]
  },
  {
   "cell_type": "markdown",
   "id": "several-shade",
   "metadata": {},
   "source": [
    "Som det kan ses vil model A give størst afkast inden for den urealistiske skatteopsætning der er lavet.\n",
    "Nu konstrueret en simpel gennemsnitsmodel med rigtig behandling af progræssionsgrænsen for beskatning."
   ]
  },
  {
   "cell_type": "code",
   "execution_count": 6,
   "id": "stuffed-tract",
   "metadata": {},
   "outputs": [],
   "source": [
    "def simpel_model_rigtig_beskatning(\n",
    "                 start_kapital: float, \n",
    "                 åop: float, \n",
    "                 skatteklasse: Skat, \n",
    "                 årligt_afkast: float, \n",
    "                 antal_år: int, \n",
    "                 udbytte_procent: float\n",
    "                ):\n",
    "    \"\"\"\n",
    "    Simpelmodel for beregning af afkast efter et antal år.\n",
    "    \n",
    "    Args:\n",
    "      start_kapital: Start kapital i depotet.\n",
    "      åop: ÅOP af depotet.\n",
    "      skatteklasse: Klasse der beskriver hvordan skatten behandles.\n",
    "      årligt_afkast: Gennemsnitligt årligt afkast.\n",
    "      antal_år: Antal år.\n",
    "      udbytte_procent: Hvor meget af afkastet kommer som udbytte.\n",
    "\n",
    "    Returns:\n",
    "      Total depotværdi efter antal år efter skat.\n",
    "    \"\"\"\n",
    "    realiseret = start_kapital\n",
    "    depot_værdi = start_kapital\n",
    "    \n",
    "    for _ in range(antal_år):\n",
    "        udbytte = udbytte_procent * depot_værdi * (årligt_afkast - åop)\n",
    "        beskatning = skatteklasse.beregn_skat(udbytte)\n",
    "        realiseret += udbytte - beskatning\n",
    "        depot_værdi = depot_værdi + depot_værdi*(årligt_afkast - åop)*(1-udbytte_procent) + udbytte - beskatning\n",
    "    beskatning = skatteklasse.beregn_skat(depot_værdi - realiseret)\n",
    "    return depot_værdi - beskatning"
   ]
  },
  {
   "cell_type": "markdown",
   "id": "automotive-magnet",
   "metadata": {},
   "source": [
    "Parametre for model A, bemærk at jeg har valgt 100 000 DKK som start kapital."
   ]
  },
  {
   "cell_type": "code",
   "execution_count": 7,
   "id": "played-evanescence",
   "metadata": {},
   "outputs": [
    {
     "data": {
      "text/plain": [
       "405745.52517313533"
      ]
     },
     "execution_count": 7,
     "metadata": {},
     "output_type": "execute_result"
    }
   ],
   "source": [
    "beskatning = skat.Skat(beskatningstype=\"aktie\")\n",
    "simpel_model_rigtig_beskatning(100000, 0.3/100, beskatning, 0.1, 20, 0.8)"
   ]
  },
  {
   "cell_type": "markdown",
   "id": "inside-activity",
   "metadata": {},
   "source": [
    "Parametre for model B, bemærk at jeg har valgt 100 000 DKK som start kapital."
   ]
  },
  {
   "cell_type": "code",
   "execution_count": 8,
   "id": "occupied-gothic",
   "metadata": {},
   "outputs": [
    {
     "data": {
      "text/plain": [
       "398128.4241002131"
      ]
     },
     "execution_count": 8,
     "metadata": {},
     "output_type": "execute_result"
    }
   ],
   "source": [
    "beskatning = skat.Skat(beskatningstype=\"aktie\")\n",
    "simpel_model_rigtig_beskatning(100000, 0.6/100, beskatning, 0.1, 20, 0.2)"
   ]
  },
  {
   "cell_type": "markdown",
   "id": "touched-rental",
   "metadata": {},
   "source": [
    "For dette specifikke start kapital har model A højest afkast, for andre parametere vil model B kunne have højst afkast. \n",
    "Man kan ikke sige at det ene altid er bedre end det andet. F.eks. med en start på 300 000 DKK:"
   ]
  },
  {
   "cell_type": "code",
   "execution_count": 9,
   "id": "structural-mandate",
   "metadata": {},
   "outputs": [
    {
     "data": {
      "text/plain": [
       "1176150.4644858742"
      ]
     },
     "execution_count": 9,
     "metadata": {},
     "output_type": "execute_result"
    }
   ],
   "source": [
    "beskatning = skat.Skat(beskatningstype=\"aktie\")\n",
    "simpel_model_rigtig_beskatning(300000, 0.3/100, beskatning, 0.1, 20, 0.8)"
   ]
  },
  {
   "cell_type": "code",
   "execution_count": 10,
   "id": "severe-apparel",
   "metadata": {},
   "outputs": [
    {
     "data": {
      "text/plain": [
       "1177795.2723006392"
      ]
     },
     "execution_count": 10,
     "metadata": {},
     "output_type": "execute_result"
    }
   ],
   "source": [
    "beskatning = skat.Skat(beskatningstype=\"aktie\")\n",
    "simpel_model_rigtig_beskatning(300000, 0.6/100, beskatning, 0.1, 20, 0.2)"
   ]
  }
 ],
 "metadata": {
  "kernelspec": {
   "display_name": "Python 3",
   "language": "python",
   "name": "python3"
  },
  "language_info": {
   "codemirror_mode": {
    "name": "ipython",
    "version": 3
   },
   "file_extension": ".py",
   "mimetype": "text/x-python",
   "name": "python",
   "nbconvert_exporter": "python",
   "pygments_lexer": "ipython3",
   "version": "3.7.10"
  }
 },
 "nbformat": 4,
 "nbformat_minor": 5
}
